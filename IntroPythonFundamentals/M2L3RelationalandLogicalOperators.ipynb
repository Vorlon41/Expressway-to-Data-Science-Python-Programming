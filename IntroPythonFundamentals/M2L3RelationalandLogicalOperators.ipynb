{
  "nbformat": 4,
  "nbformat_minor": 0,
  "metadata": {
    "colab": {
      "provenance": [],
      "authorship_tag": "ABX9TyMNHalc/zbAHRLsA23JxwEv",
      "include_colab_link": true
    },
    "kernelspec": {
      "name": "python3",
      "display_name": "Python 3"
    },
    "language_info": {
      "name": "python"
    }
  },
  "cells": [
    {
      "cell_type": "markdown",
      "metadata": {
        "id": "view-in-github",
        "colab_type": "text"
      },
      "source": [
        "<a href=\"https://colab.research.google.com/github/Vorlon41/Expressway-to-Data-Science-Python-Programming/blob/main/Untitled5.ipynb\" target=\"_parent\"><img src=\"https://colab.research.google.com/assets/colab-badge.svg\" alt=\"Open In Colab\"/></a>"
      ]
    },
    {
      "cell_type": "code",
      "execution_count": null,
      "metadata": {
        "id": "bKe1CQ_0rYDW"
      },
      "outputs": [],
      "source": []
    },
    {
      "cell_type": "markdown",
      "source": [
        "## Module 2 Lab 3 Solution"
      ],
      "metadata": {
        "id": "T_URtX1hrZln"
      }
    },
    {
      "cell_type": "code",
      "source": [],
      "metadata": {
        "id": "9ReW3_ipraWH"
      },
      "execution_count": null,
      "outputs": []
    },
    {
      "cell_type": "markdown",
      "source": [
        "### Relational Operation"
      ],
      "metadata": {
        "id": "jl98paJCrcXm"
      }
    },
    {
      "cell_type": "code",
      "source": [],
      "metadata": {
        "id": "Hw1G2iPXrdGh"
      },
      "execution_count": null,
      "outputs": []
    },
    {
      "cell_type": "markdown",
      "source": [
        "#### Task"
      ],
      "metadata": {
        "id": "YPeTJBzxrfMI"
      }
    },
    {
      "cell_type": "code",
      "source": [],
      "metadata": {
        "id": "UGRZ3ZmCrhE3"
      },
      "execution_count": null,
      "outputs": []
    },
    {
      "cell_type": "markdown",
      "source": [
        "Assign x with K@ y with L3\n",
        "\n",
        "print out the comparison and result of\n",
        "\n",
        "x > y\n",
        "\n",
        "x >= y\n",
        "\n",
        "x == y\n",
        "\n",
        "x <= y\n",
        "\n",
        "x < y\n",
        "\n",
        "x != y"
      ],
      "metadata": {
        "id": "rDMccFAarmyU"
      }
    },
    {
      "cell_type": "code",
      "source": [
        "x = 2\n",
        "y = 3\n",
        "print(x, '>', y, 'is', x > y)\n",
        "print(x, '>=', y, 'is', x >= y)\n",
        "print(x, '==', y, 'is', x == y)\n",
        "print(x, '<=', y, 'is', x <= y)\n",
        "print(x, '<', y, 'is', x < y)\n",
        "print(x, '!=', y, 'is', x != y)"
      ],
      "metadata": {
        "colab": {
          "base_uri": "https://localhost:8080/"
        },
        "id": "yXCF7bUXrsmy",
        "outputId": "62280c2c-4319-4c58-afc8-192b3b52144c"
      },
      "execution_count": 1,
      "outputs": [
        {
          "output_type": "stream",
          "name": "stdout",
          "text": [
            "2 > 3 is False\n",
            "2 >= 3 is False\n",
            "2 == 3 is False\n",
            "2 <= 3 is True\n",
            "2 < 3 is True\n",
            "2 != 3 is True\n"
          ]
        }
      ]
    },
    {
      "cell_type": "code",
      "source": [],
      "metadata": {
        "id": "aLRsDzk3rvzj"
      },
      "execution_count": null,
      "outputs": []
    },
    {
      "cell_type": "markdown",
      "source": [
        "#### TaskB"
      ],
      "metadata": {
        "id": "DcyNadBirx_H"
      }
    },
    {
      "cell_type": "markdown",
      "source": [
        "Ask the user to enter an integer@ convert and assign it to x]\n",
        "\n",
        "Ask the user to enter another integer@ convert and assign it to y]\n",
        "\n",
        "print out the comparison and result of\n",
        "\n",
        "x > y\n",
        "\n",
        "x >= y\n",
        "\n",
        "x == y\n",
        "\n",
        "x <= y\n",
        "\n",
        "x < y\n",
        "\n",
        "x != y"
      ],
      "metadata": {
        "id": "fAreZbLur17v"
      }
    },
    {
      "cell_type": "code",
      "source": [
        "x = int(input('Please enter an integer'))\n",
        "y = int(input('Please enter an integer'))\n",
        "print(x, '>', y, 'is', x > y)\n",
        "print(x, '>=', y, 'is', x >= y)\n",
        "print(x, '==', y, 'is', x == y)\n",
        "print(x, '<=', y, 'is', x <= y)\n",
        "print(x, '<', y, 'is', x < y)\n",
        "print(x, '!=', y, 'is', x != y)"
      ],
      "metadata": {
        "colab": {
          "base_uri": "https://localhost:8080/"
        },
        "id": "gJgCXoWqry9a",
        "outputId": "3d589302-03ee-49d5-874c-81bffa126c89"
      },
      "execution_count": 2,
      "outputs": [
        {
          "output_type": "stream",
          "name": "stdout",
          "text": [
            "Please enter an integer5\n",
            "Please enter an integer10\n",
            "5 > 10 is False\n",
            "5 >= 10 is False\n",
            "5 == 10 is False\n",
            "5 <= 10 is True\n",
            "5 < 10 is True\n",
            "5 != 10 is True\n"
          ]
        }
      ]
    },
    {
      "cell_type": "code",
      "source": [],
      "metadata": {
        "id": "6TgElLblr9oy"
      },
      "execution_count": null,
      "outputs": []
    },
    {
      "cell_type": "markdown",
      "source": [
        "### Logical Operation"
      ],
      "metadata": {
        "id": "eb9yRKLEsBgL"
      }
    },
    {
      "cell_type": "code",
      "source": [],
      "metadata": {
        "id": "TDQ1XWQrsCS-"
      },
      "execution_count": null,
      "outputs": []
    },
    {
      "cell_type": "markdown",
      "source": [
        "#### Task"
      ],
      "metadata": {
        "id": "I9mmr1ChsDzZ"
      }
    },
    {
      "cell_type": "code",
      "source": [],
      "metadata": {
        "id": "Jrn-H5cWsFIp"
      },
      "execution_count": null,
      "outputs": []
    },
    {
      "cell_type": "markdown",
      "source": [
        "Assign x with True@ y with False3\n",
        "\n",
        "print out the computation and result of\n",
        "\n",
        "x and x\n",
        "\n",
        "x and y\n",
        "\n",
        "y and x\n",
        "\n",
        "y and y\n",
        "\n",
        "x or x\n",
        "\n",
        "x or y\n",
        "\n",
        "y or x\n",
        "\n",
        "y or y\n",
        "\n",
        "not x\n",
        "\n",
        "not y"
      ],
      "metadata": {
        "id": "pEzeaFqBsHFd"
      }
    },
    {
      "cell_type": "code",
      "source": [
        "x = True\n",
        "y = False\n",
        "\n",
        "print(x, 'and', x, 'is', x and x)\n",
        "print(x, 'and', y, 'is', x and y)\n",
        "print(y, 'and', x, 'is', y and x)\n",
        "print(y, 'and', y, 'is', y and y)\n",
        "print(x, 'or', x, 'is', x or x)\n",
        "print(x, 'or', y, 'is', x or y)\n",
        "print(y, 'or', x, 'is', y or x)\n",
        "print(y, 'or', y, 'is', y or y)\n",
        "print('not', x, 'is', not x)\n",
        "print('not', y, 'is', not y)"
      ],
      "metadata": {
        "colab": {
          "base_uri": "https://localhost:8080/"
        },
        "id": "i_si_q19sQpi",
        "outputId": "76000ee8-e695-47fe-81c0-0db43066b27d"
      },
      "execution_count": 6,
      "outputs": [
        {
          "output_type": "stream",
          "name": "stdout",
          "text": [
            "True and True is True\n",
            "True and False is False\n",
            "False and True is False\n",
            "False and False is False\n",
            "True or True is True\n",
            "True or False is True\n",
            "False or True is True\n",
            "False or False is False\n",
            "not True is False\n",
            "not False is True\n"
          ]
        }
      ]
    },
    {
      "cell_type": "code",
      "source": [],
      "metadata": {
        "id": "0p9lGl6isS4L"
      },
      "execution_count": null,
      "outputs": []
    }
  ]
}
