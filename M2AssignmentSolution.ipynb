{
  "nbformat": 4,
  "nbformat_minor": 0,
  "metadata": {
    "colab": {
      "provenance": [],
      "include_colab_link": true
    },
    "kernelspec": {
      "name": "python3",
      "display_name": "Python 3"
    },
    "language_info": {
      "name": "python"
    }
  },
  "cells": [
    {
      "cell_type": "markdown",
      "metadata": {
        "id": "view-in-github",
        "colab_type": "text"
      },
      "source": [
        "<a href=\"https://colab.research.google.com/github/Vorlon41/Expressway-to-Data-Science-Python-Programming/blob/main/M2AssignmentSolution.ipynb\" target=\"_parent\"><img src=\"https://colab.research.google.com/assets/colab-badge.svg\" alt=\"Open In Colab\"/></a>"
      ]
    },
    {
      "cell_type": "markdown",
      "metadata": {
        "id": "cnAUJprJdh9_"
      },
      "source": [
        "# M2 Lab assignment!"
      ]
    },
    {
      "cell_type": "markdown",
      "metadata": {
        "id": "TNbXeCDFeAcJ"
      },
      "source": [
        "## Simple check out\n",
        "\n",
        "###Instruction: You are going to program a super simple check-out system for a store. This store has an interesting rule that every customer can only buy one product (the quantity of the product is not limited) in one order.\n",
        "\n",
        "step1: Ask the user to enter the price / unit of the product (it should be a float)\n",
        "\n",
        "step2: Ask the user to enter the quantity of the product (it should be an integer)\n",
        "\n",
        "step3: We have a sales tax at 6.25%\n",
        "\n",
        "step4: Calculate and display the total amount of this order (for example, 59.25)\n",
        "\n",
        "step5: Ask the user to enter the amount of bills paid (for example, 60)\n",
        "\n",
        "step6: Calculate and display the change (for example, 0.75)"
      ]
    },
    {
      "cell_type": "code",
      "metadata": {
        "id": "x6IbZ6rFw76O",
        "colab": {
          "base_uri": "https://localhost:8080/"
        },
        "outputId": "5aa96b11-0bb7-4236-f7e7-218fee7ecd7e"
      },
      "source": [
        "price = float(input('What is the price per unit of the product? '))\n",
        "quantity = int(input('What is the quantity of the product? '))\n",
        "total = price * quantity * (1 + 0.0625)\n",
        "print('The total amount of this order with tax is', total)\n",
        "paid = float(input('What is the amount of bill paid? (It should be larger than the total) '))\n",
        "change = paid - total\n",
        "print('The change is', change)"
      ],
      "execution_count": 1,
      "outputs": [
        {
          "output_type": "stream",
          "name": "stdout",
          "text": [
            "What is the price per unit of the product? 10\n",
            "What is the quantity of the product? 20\n",
            "The total amount of this order with tax is 212.5\n",
            "What is the amount of bill paid? (It should be larger than the total) 250\n",
            "The change is 37.5\n"
          ]
        }
      ]
    },
    {
      "cell_type": "markdown",
      "metadata": {
        "id": "fZfiqg5lxFKF"
      },
      "source": [
        "## Tips Split\n",
        "\n",
        "###Instruction: You are going to program a super simple tip split system.\n",
        "\n",
        "step1: Ask the user to enter the total amount of meal before tax (it should be a float)\n",
        "\n",
        "step2: Ask the user to enter the number of people to split the tips (it should be an integer)\n",
        "\n",
        "step3: We have a sales tax at 6.25%, and we tip at 18%\n",
        "\n",
        "step4: Calculate and display the total amount due  (including tax and tips)\n",
        "\n",
        "step5: Calculate and display the amount each person should pay."
      ]
    },
    {
      "cell_type": "code",
      "metadata": {
        "id": "2bODNGPSx1-m",
        "colab": {
          "base_uri": "https://localhost:8080/"
        },
        "outputId": "09b3155f-975c-4e1b-a7f1-91d27e49bcee"
      },
      "source": [
        "total = float(input('What is the total amount of the meal before tax? '))\n",
        "num = int(input('How many people to split the tips? '))\n",
        "tax = 0.0625\n",
        "tip = 0.18\n",
        "total_due = total * (1 + tax + tip)\n",
        "each_due = total_due / num\n",
        "print('Total due is', total_due, '. Each due is', each_due)"
      ],
      "execution_count": 2,
      "outputs": [
        {
          "output_type": "stream",
          "name": "stdout",
          "text": [
            "What is the total amount of the meal before tax? 20\n",
            "How many people to split the tips? 2\n",
            "Total due is 24.849999999999998 . Each due is 12.424999999999999\n"
          ]
        }
      ]
    },
    {
      "cell_type": "markdown",
      "metadata": {
        "id": "cZmW-HnwyHcI"
      },
      "source": [
        "## Compound Interest\n",
        "\n",
        "###Instruction: You are going to program a super simple Compound Interest calcualtor.\n",
        "\n",
        "step1: Ask the user to enter the amount saving right now (it should be a float)\n",
        "\n",
        "step2: Ask the user to enter the number of years(it should be an integer)\n",
        "\n",
        "step3: Ask the user to enter the interest rate (it should be a float number, and 0.03 represents 3%)\n",
        "\n",
        "step4: Calculate and display the total amount after these years"
      ]
    },
    {
      "cell_type": "code",
      "metadata": {
        "id": "wk6FHvAvyr_G",
        "colab": {
          "base_uri": "https://localhost:8080/"
        },
        "outputId": "217e1b0d-62be-48eb-eebe-564e9f13e919"
      },
      "source": [
        "saving = float(input('What is the amount of saving right now? '))\n",
        "years = int(input('What is the number of years? '))\n",
        "rate = float(input('What is the interest rate per year? (it should be a float number, and 0.03 represents 3%) '))\n",
        "total = saving * (1 + rate) ** years\n",
        "print('The total amount after these years is:', total)"
      ],
      "execution_count": 3,
      "outputs": [
        {
          "output_type": "stream",
          "name": "stdout",
          "text": [
            "What is the amount of saving right now? 250\n",
            "What is the number of years? 10\n",
            "What is the interest rate per year? (it should be a float number, and 0.03 represents 3%) .05\n",
            "The total amount after these years is: 407.2236566943605\n"
          ]
        }
      ]
    },
    {
      "cell_type": "markdown",
      "metadata": {
        "id": "7Ysdu7UJ_qf8"
      },
      "source": [
        "**Congratulations! You finished this Assignment and completed Module 2!**"
      ]
    }
  ]
}